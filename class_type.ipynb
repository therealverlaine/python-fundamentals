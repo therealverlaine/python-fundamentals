{
 "cells": [
  {
   "cell_type": "code",
   "execution_count": 10,
   "id": "87733ce9-f1ce-40c9-9c26-cee327086835",
   "metadata": {},
   "outputs": [],
   "source": [
    "class Price:\n",
    "    def __init__(self, part_number, price):\n",
    "        self.price = price\n",
    "        self.part_number = part_number\n",
    "\n",
    "    def get_price(self):\n",
    "        return self.price"
   ]
  },
  {
   "cell_type": "code",
   "execution_count": 24,
   "id": "e86d0f28-8669-4db9-9d73-85708726ab8f",
   "metadata": {},
   "outputs": [
    {
     "name": "stdout",
     "output_type": "stream",
     "text": [
      "<__main__.Price object at 0x00000237DB442210>\n",
      "<class '__main__.Price'>\n",
      "<class 'type'>\n",
      "100\n",
      "<class 'int'>\n"
     ]
    }
   ],
   "source": [
    "first_price = Price(1, 100)\n",
    "print(first_price)\n",
    "print(type(first_price))\n",
    "print(type(Price))\n",
    "print(first_price.get_price())\n",
    "print(type(first_price.get_price()))"
   ]
  },
  {
   "cell_type": "code",
   "execution_count": 12,
   "id": "635c4ce4-607f-4ced-90f5-d8e620d5d473",
   "metadata": {},
   "outputs": [],
   "source": [
    "def function__init__(self, part_number, price):\n",
    "    self.price = price\n",
    "    self.part_number = part_number\n",
    "\n",
    "def function_get_price(self):\n",
    "    return self.price"
   ]
  },
  {
   "cell_type": "code",
   "execution_count": 15,
   "id": "1a9f6ab3",
   "metadata": {},
   "outputs": [],
   "source": [
    "namespace = {\"__init__\": function__init__, \"get_price\": function_get_price}\n",
    "Price2 = type(\"Price2\", (), namespace)"
   ]
  },
  {
   "cell_type": "code",
   "execution_count": 23,
   "id": "2369cae8",
   "metadata": {},
   "outputs": [
    {
     "name": "stdout",
     "output_type": "stream",
     "text": [
      "<__main__.Price2 object at 0x00000237DAEC2C50>\n",
      "<class '__main__.Price2'>\n",
      "<class 'type'>\n",
      "200\n",
      "<class 'int'>\n"
     ]
    }
   ],
   "source": [
    "second_price = Price2(2, 200)\n",
    "print(second_price)\n",
    "print(type(second_price))\n",
    "print(type(Price2))\n",
    "print(second_price.get_price())\n",
    "print(type(second_price.get_price()))"
   ]
  },
  {
   "cell_type": "code",
   "execution_count": null,
   "id": "b4939424",
   "metadata": {},
   "outputs": [],
   "source": []
  }
 ],
 "metadata": {
  "kernelspec": {
   "display_name": "Python 3 (ipykernel)",
   "language": "python",
   "name": "python3"
  },
  "language_info": {
   "codemirror_mode": {
    "name": "ipython",
    "version": 3
   },
   "file_extension": ".py",
   "mimetype": "text/x-python",
   "name": "python",
   "nbconvert_exporter": "python",
   "pygments_lexer": "ipython3",
   "version": "3.11.4"
  }
 },
 "nbformat": 4,
 "nbformat_minor": 5
}
