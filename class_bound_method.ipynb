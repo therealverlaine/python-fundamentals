{
 "cells": [
  {
   "cell_type": "code",
   "execution_count": 26,
   "metadata": {},
   "outputs": [],
   "source": [
    "class Price:\n",
    "    def __init__(self, part_number, price):\n",
    "        self.price = price\n",
    "        self.part_number = part_number\n",
    "\n",
    "    def get_price(self):\n",
    "        return self.price"
   ]
  },
  {
   "cell_type": "code",
   "execution_count": 77,
   "metadata": {},
   "outputs": [
    {
     "name": "stdout",
     "output_type": "stream",
     "text": [
      "['__class__', '__delattr__', '__dict__', '__dir__', '__doc__', '__eq__', '__format__', '__ge__', '__getattribute__', '__getstate__', '__gt__', '__hash__', '__init__', '__init_subclass__', '__le__', '__lt__', '__module__', '__ne__', '__new__', '__reduce__', '__reduce_ex__', '__repr__', '__setattr__', '__sizeof__', '__str__', '__subclasshook__', '__weakref__', 'get_discount_price', 'get_price', 'part_number', 'percent_off', 'price', 'set_discount']\n",
      "['__class__', '__delattr__', '__dict__', '__dir__', '__doc__', '__eq__', '__format__', '__ge__', '__getattribute__', '__getstate__', '__gt__', '__hash__', '__init__', '__init_subclass__', '__le__', '__lt__', '__module__', '__ne__', '__new__', '__reduce__', '__reduce_ex__', '__repr__', '__setattr__', '__sizeof__', '__str__', '__subclasshook__', '__weakref__', 'get_discount_price', 'get_price', 'percent_off', 'set_discount']\n",
      "{'price': 150, 'part_number': 1}\n",
      "{'__module__': '__main__', '__init__': <function Price.__init__ at 0x00000237DB4A7100>, 'get_price': <function Price.get_price at 0x00000237DB4A6AC0>, '__dict__': <attribute '__dict__' of 'Price' objects>, '__weakref__': <attribute '__weakref__' of 'Price' objects>, '__doc__': None, 'set_discount': <function set_discount at 0x00000237D9DF8FE0>, 'percent_off': 10, 'get_discount_price': <function get_discount_price at 0x00000237DB4A47C0>}\n"
     ]
    }
   ],
   "source": [
    "item_price = Price(1, 150)\n",
    "print(dir(item_price))\n",
    "print(dir(Price))\n",
    "print(item_price.__dict__)\n",
    "print(Price.__dict__)"
   ]
  },
  {
   "cell_type": "code",
   "execution_count": 43,
   "metadata": {},
   "outputs": [],
   "source": [
    "# dir() of the instance show 'part_number' and 'price', while dir() of Class does not\n",
    "# other than that, they show the same attributes"
   ]
  },
  {
   "cell_type": "code",
   "execution_count": 69,
   "metadata": {},
   "outputs": [],
   "source": [
    "def set_discount(item_price, percent_off):\n",
    "    item_price.percent_off = percent_off\n",
    "\n",
    "def get_discount_price(item_price):\n",
    "    return item_price - item_price / percent_off\n",
    "\n",
    "set_discount(item_price, 10)"
   ]
  },
  {
   "cell_type": "code",
   "execution_count": 72,
   "metadata": {},
   "outputs": [],
   "source": [
    "Price.set_discount = set_discount\n",
    "item_price.set_discount = set_discount\n",
    "Price.get_discount_price = get_discount_price\n",
    "item_price.get_discount_price = get_discount_price"
   ]
  },
  {
   "cell_type": "code",
   "execution_count": 75,
   "metadata": {},
   "outputs": [
    {
     "name": "stdout",
     "output_type": "stream",
     "text": [
      "['__class__', '__delattr__', '__dict__', '__dir__', '__doc__', '__eq__', '__format__', '__ge__', '__getattribute__', '__getstate__', '__gt__', '__hash__', '__init__', '__init_subclass__', '__le__', '__lt__', '__module__', '__ne__', '__new__', '__reduce__', '__reduce_ex__', '__repr__', '__setattr__', '__sizeof__', '__str__', '__subclasshook__', '__weakref__', 'get_discount_price', 'get_price', 'percent_off', 'set_discount']\n",
      "['__class__', '__delattr__', '__dict__', '__dir__', '__doc__', '__eq__', '__format__', '__ge__', '__getattribute__', '__getstate__', '__gt__', '__hash__', '__init__', '__init_subclass__', '__le__', '__lt__', '__module__', '__ne__', '__new__', '__reduce__', '__reduce_ex__', '__repr__', '__setattr__', '__sizeof__', '__str__', '__subclasshook__', '__weakref__', 'get_discount_price', 'get_price', 'part_number', 'percent_off', 'price', 'set_discount']\n"
     ]
    }
   ],
   "source": [
    "print(dir(Price))\n",
    "print(dir(item_price))"
   ]
  },
  {
   "cell_type": "code",
   "execution_count": null,
   "metadata": {},
   "outputs": [],
   "source": []
  }
 ],
 "metadata": {
  "kernelspec": {
   "display_name": "Python 3 (ipykernel)",
   "language": "python",
   "name": "python3"
  },
  "language_info": {
   "codemirror_mode": {
    "name": "ipython",
    "version": 3
   },
   "file_extension": ".py",
   "mimetype": "text/x-python",
   "name": "python",
   "nbconvert_exporter": "python",
   "pygments_lexer": "ipython3",
   "version": "3.11.4"
  }
 },
 "nbformat": 4,
 "nbformat_minor": 2
}
