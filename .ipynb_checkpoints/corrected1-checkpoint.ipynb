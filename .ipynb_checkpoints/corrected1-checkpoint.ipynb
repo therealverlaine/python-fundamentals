{
 "cells": [
  {
   "cell_type": "code",
   "execution_count": 1,
   "id": "a7599f88-d0c5-4e78-83c3-20b303962f2c",
   "metadata": {},
   "outputs": [],
   "source": [
    "def id_match(a, b):\n",
    "    print(f\"ID Match? {id(a)} == {id(b)}\")\n",
    "    return id(a) == id(b)"
   ]
  },
  {
   "cell_type": "code",
   "execution_count": 8,
   "id": "8e745563-b8bf-45d7-a115-858802e605f0",
   "metadata": {},
   "outputs": [],
   "source": [
    "def printer_outter(first, second):\n",
    "    print(f\"Value of first: {first}\\nValue of second: {second}\")\n",
    "    print(f\"Type of first: {type(first)}\\nType of second: {type(second)}\")"
   ]
  },
  {
   "cell_type": "code",
   "execution_count": 10,
   "id": "e08c5f0d-23be-4671-96f2-dfc5a7eb2115",
   "metadata": {},
   "outputs": [
    {
     "name": "stdout",
     "output_type": "stream",
     "text": [
      "ID Match? 2305893062768 == 2305893062768\n",
      "True\n",
      "Value of first: hello\n",
      "Value of second: hello\n",
      "Type of first: <class 'str'>\n",
      "Type of second: <class 'str'>\n",
      "Value of first: hello\n",
      "Value of second: goodbye\n",
      "Type of first: <class 'str'>\n",
      "Type of second: <class 'str'>\n",
      "ID Match? 2305893062768 == 2305919953648\n",
      "False\n"
     ]
    }
   ],
   "source": [
    "# string\n",
    "a = \"hello\"\n",
    "b = a\n",
    "first_str = id_match(a ,b)\n",
    "print(first_str)\n",
    "printer_outter(a, b)\n",
    "b = \"goodbye\"\n",
    "printer_outter(a, b)\n",
    "second_str = id_match(a, b)\n",
    "print(second_str)"
   ]
  },
  {
   "cell_type": "code",
   "execution_count": 11,
   "id": "e218dcd1-2315-4b5c-afeb-8b58e8759657",
   "metadata": {},
   "outputs": [
    {
     "name": "stdout",
     "output_type": "stream",
     "text": [
      "ID Match? 140735230305064 == 140735230305064\n",
      "True\n",
      "Value of first: 1\n",
      "Value of second: 1\n",
      "Type of first: <class 'int'>\n",
      "Type of second: <class 'int'>\n",
      "Value of first: 1\n",
      "Value of second: 2\n",
      "Type of first: <class 'int'>\n",
      "Type of second: <class 'int'>\n",
      "ID Match? 140735230305064 == 140735230305096\n",
      "False\n"
     ]
    }
   ],
   "source": [
    "# int\n",
    "c = 1\n",
    "d = c\n",
    "first_int = id_match(c, d)\n",
    "print(first_int)\n",
    "printer_outter(c, d)\n",
    "d = 2\n",
    "printer_outter(c, d)\n",
    "second_int = id_match(c, d)\n",
    "print(second_int)"
   ]
  },
  {
   "cell_type": "code",
   "execution_count": 13,
   "id": "919b0c44-9146-4469-937e-7a08fb5665ca",
   "metadata": {},
   "outputs": [
    {
     "name": "stdout",
     "output_type": "stream",
     "text": [
      "ID Match? 2305895867536 == 2305895867536\n",
      "True\n",
      "Value of first: 1.1\n",
      "Value of second: 1.1\n",
      "Type of first: <class 'float'>\n",
      "Type of second: <class 'float'>\n",
      "Value of first: 1.1\n",
      "Value of second: 2.3\n",
      "Type of first: <class 'float'>\n",
      "Type of second: <class 'float'>\n",
      "ID Match? 2305895867536 == 2305895873680\n",
      "False\n"
     ]
    }
   ],
   "source": [
    "# float\n",
    "e = 1.1\n",
    "f = e\n",
    "first_flt = id_match(e, f)\n",
    "print(first_flt)\n",
    "printer_outter(e, f)\n",
    "f = 2.3\n",
    "printer_outter(e, f)\n",
    "second_flt = id_match(e, f)\n",
    "print(second_flt)"
   ]
  },
  {
   "cell_type": "code",
   "execution_count": 19,
   "id": "626acecc-7cdf-4636-8cc6-6aa88ca7006c",
   "metadata": {},
   "outputs": [
    {
     "name": "stdout",
     "output_type": "stream",
     "text": [
      "ID Match? 2305914134848 == 2305914134848\n",
      "True\n",
      "Value of first: [1, 2, 3]\n",
      "Value of second: [1, 2, 3]\n",
      "Type of first: <class 'list'>\n",
      "Type of second: <class 'list'>\n",
      "Value of first: [1, 10, 3]\n",
      "Value of second: [1, 10, 3]\n",
      "Type of first: <class 'list'>\n",
      "Type of second: <class 'list'>\n",
      "ID Match? 2305914134848 == 2305914134848\n",
      "True\n"
     ]
    }
   ],
   "source": [
    "# list\n",
    "g = [1, 2, 3]\n",
    "h = g\n",
    "first_lst = id_match(g, h)\n",
    "print(first_lst)\n",
    "printer_outter(g, h)\n",
    "h[1] = 10\n",
    "printer_outter(g, h)\n",
    "second_lst = id_match(g, h)\n",
    "print(second_lst)"
   ]
  },
  {
   "cell_type": "code",
   "execution_count": 18,
   "id": "8689aded-701f-406d-addd-247020ba84b8",
   "metadata": {},
   "outputs": [
    {
     "name": "stdout",
     "output_type": "stream",
     "text": [
      "ID Match? 2305920013824 == 2305920013824\n",
      "True\n",
      "Value of first: ['one', 'two', 'three']\n",
      "Value of second: ['one', 'two', 'three']\n",
      "Type of first: <class 'list'>\n",
      "Type of second: <class 'list'>\n",
      "Value of first: ['one', 'thirteen', 'three']\n",
      "Value of second: ['one', 'thirteen', 'three']\n",
      "Type of first: <class 'list'>\n",
      "Type of second: <class 'list'>\n",
      "ID Match? 2305920013824 == 2305920013824\n",
      "True\n"
     ]
    }
   ],
   "source": [
    "# list of strings\n",
    "i = [\"one\", \"two\", \"three\"]\n",
    "j = i\n",
    "first_lst_str = id_match(i, j)\n",
    "print(first_lst_str)\n",
    "printer_outter(i, j)\n",
    "j[1] = \"thirteen\"\n",
    "printer_outter(i, j)\n",
    "second_lst_str = id_match(i, j)\n",
    "print(second_lst_str)"
   ]
  },
  {
   "cell_type": "code",
   "execution_count": 16,
   "id": "bda7189e-5a94-4c3a-83a6-189e9457282a",
   "metadata": {},
   "outputs": [
    {
     "name": "stdout",
     "output_type": "stream",
     "text": [
      "ID Match? 2305913801152 == 2305913801152\n",
      "True\n",
      "Value of first: {'hello': 'goodbye', 'super': 'dooper'}\n",
      "Value of second: {'hello': 'goodbye', 'super': 'dooper'}\n",
      "Type of first: <class 'dict'>\n",
      "Type of second: <class 'dict'>\n",
      "Value of first: {'hello': 'aloha', 'super': 'dooper'}\n",
      "Value of second: {'hello': 'aloha', 'super': 'dooper'}\n",
      "Type of first: <class 'dict'>\n",
      "Type of second: <class 'dict'>\n",
      "ID Match? 2305913801152 == 2305913801152\n",
      "True\n"
     ]
    }
   ],
   "source": [
    "# dict\n",
    "k = {\"hello\": \"goodbye\", \"super\": \"dooper\"}\n",
    "l = k\n",
    "first_dct = id_match(k, l)\n",
    "print(first_dct)\n",
    "printer_outter(k, l)\n",
    "l[\"hello\"] = \"aloha\"\n",
    "printer_outter(k, l)\n",
    "second_dct = id_match(k, l)\n",
    "print(second_dct)"
   ]
  },
  {
   "cell_type": "code",
   "execution_count": 21,
   "id": "67ff028e-b397-41ca-b7ff-1ca9273d4d0c",
   "metadata": {},
   "outputs": [
    {
     "name": "stdout",
     "output_type": "stream",
     "text": [
      "ID Match? 2305913745216 == 2305913745216\n",
      "True\n",
      "Value of first: {'first': {'nested one': 'nested value'}, 'second': {'nested two': 'nested value two'}}\n",
      "Value of second: {'first': {'nested one': 'nested value'}, 'second': {'nested two': 'nested value two'}}\n",
      "Type of first: <class 'dict'>\n",
      "Type of second: <class 'dict'>\n",
      "Value of first: {'first': {'nested one': 'nested value'}, 'second': {'nested three': 'boop'}}\n",
      "Value of second: {'first': {'nested one': 'nested value'}, 'second': {'nested three': 'boop'}}\n",
      "Type of first: <class 'dict'>\n",
      "Type of second: <class 'dict'>\n",
      "ID Match? 2305913745216 == 2305913745216\n",
      "True\n"
     ]
    }
   ],
   "source": [
    "# nested dict\n",
    "m = {\n",
    "    \"first\": {\"nested one\": \"nested value\"},\n",
    "    \"second\": {\"nested two\": \"nested value two\"}}\n",
    "n = m\n",
    "first_nester = id_match(m, n)\n",
    "print(first_nester)\n",
    "printer_outter(m, n)\n",
    "n[\"second\"] = {\"nested three\": \"boop\"}\n",
    "printer_outter(m, n)\n",
    "second_nester = id_match(m, n)\n",
    "print(second_nester)"
   ]
  },
  {
   "cell_type": "code",
   "execution_count": 30,
   "id": "fbcd285a-e98d-4972-87cd-238388f51296",
   "metadata": {},
   "outputs": [
    {
     "name": "stdout",
     "output_type": "stream",
     "text": [
      "ID Match? 2305920411840 == 2305920411840\n",
      "True\n",
      "ID Match? 2305920411840 == 2305920411840\n",
      "ID Match? 2305920411840 == 2305920370240\n",
      "True\n",
      "Value of first: (1, 2, 3)\n",
      "Value of second: (1, 2, 3)\n",
      "Type of first: <class 'tuple'>\n",
      "Type of second: <class 'tuple'>\n",
      "ID Match? 2305920411840 == 2305920375296\n",
      "False\n",
      "ID Match? 2305920411840 == 2305920370240\n",
      "False\n"
     ]
    }
   ],
   "source": [
    "# tuple\n",
    "o = (1, 2, 3)\n",
    "p = o\n",
    "first_tup = id_match(o, p)\n",
    "print(first_tup)\n",
    "#printer_outter(o, p)\n",
    "q, r, s = p\n",
    "t = (q, r, s)\n",
    "x = (q, r, s)\n",
    "#printer_outter(o, p)\n",
    "sec_tup = id_match(o, p)\n",
    "what_about = id_match(o, x)\n",
    "print(sec_tup)\n",
    "printer_outter(p, t)\n",
    "third_tup = id_match(p, t)\n",
    "print(third_tup)\n",
    "last_test = id_match(o, x)\n",
    "print(last_test)"
   ]
  },
  {
   "cell_type": "code",
   "execution_count": 1,
   "id": "a8d184d6-a430-4b61-8fa3-66a38877dcd6",
   "metadata": {},
   "outputs": [
    {
     "ename": "SyntaxError",
     "evalue": "invalid syntax (3408045536.py, line 1)",
     "output_type": "error",
     "traceback": [
      "\u001b[1;36m  Cell \u001b[1;32mIn[1], line 1\u001b[1;36m\u001b[0m\n\u001b[1;33m    so it would seem to me that variables containing list and dict types are more like labels, since the ID (location in memory) remains the same, even when the values change. and when the values change in the copied variable, the values are also changed in the original value.\u001b[0m\n\u001b[1;37m       ^\u001b[0m\n\u001b[1;31mSyntaxError\u001b[0m\u001b[1;31m:\u001b[0m invalid syntax\n"
     ]
    }
   ],
   "source": [
    "so it would seem to me that variables containing list and dict types are more like labels, since the ID (location in memory) remains the same, even when the values change. and when the values change in the copied variable, the values are also changed in the original value.\n",
    "\n",
    "but int, float, string, seem more like containers, because the variable holds something, and when the copy of the variable is changed, the value of the original variable remains the same\n",
    "it appears as though this gets into the different between DEEP copy and SHALLOW copy. ie, setting a variable sets a reference to the variable; then when you SHALLOW copy it, you set a variable pointed to the initial object. then when either `variable` changes, they both do, because they both point to the same thing in memory."
   ]
  },
  {
   "cell_type": "code",
   "execution_count": null,
   "id": "5d961960-dab1-4ef4-8951-0d3b28dd60ca",
   "metadata": {},
   "outputs": [],
   "source": []
  }
 ],
 "metadata": {
  "kernelspec": {
   "display_name": "Python 3 (ipykernel)",
   "language": "python",
   "name": "python3"
  },
  "language_info": {
   "codemirror_mode": {
    "name": "ipython",
    "version": 3
   },
   "file_extension": ".py",
   "mimetype": "text/x-python",
   "name": "python",
   "nbconvert_exporter": "python",
   "pygments_lexer": "ipython3",
   "version": "3.11.4"
  }
 },
 "nbformat": 4,
 "nbformat_minor": 5
}
